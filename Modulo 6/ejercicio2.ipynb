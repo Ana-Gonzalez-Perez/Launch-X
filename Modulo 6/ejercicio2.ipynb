{
 "cells": [
  {
   "cell_type": "code",
   "execution_count": 12,
   "metadata": {},
   "outputs": [],
   "source": [
    "# Lista de planetas\n",
    "planets = ['Mercury', 'Venus', 'Earth', 'Mars', 'Jupiter', 'Saturn', 'Neptune']\n",
    "\n"
   ]
  },
  {
   "cell_type": "code",
   "execution_count": 13,
   "metadata": {},
   "outputs": [
    {
     "name": "stdout",
     "output_type": "stream",
     "text": [
      "El planeta  no está en el sistema solar.\n"
     ]
    }
   ],
   "source": [
    "planetas = ['Mercurio', 'Venus', 'Tierra', 'Marte', 'Júpiter', 'Saturno', 'Urano', 'Neptuno']\n",
    "planeta = input(\"Escribe el nombre de un planeta\").title()\n",
    "if planeta in planetas:\n",
    "    print(f'El planeta {planeta} sí está en el sistema solar.')\n",
    "else:\n",
    "    print(f'El planeta {planeta} no está en el sistema solar.')"
   ]
  }
 ],
 "metadata": {
  "interpreter": {
   "hash": "04455c6a060d413cb7eeff7d14ff26a05fdbc33cf1c7037eb76707365020ba31"
  },
  "kernelspec": {
   "display_name": "Python 3.9.10 32-bit",
   "language": "python",
   "name": "python3"
  },
  "language_info": {
   "codemirror_mode": {
    "name": "ipython",
    "version": 3
   },
   "file_extension": ".py",
   "mimetype": "text/x-python",
   "name": "python",
   "nbconvert_exporter": "python",
   "pygments_lexer": "ipython3",
   "version": "3.9.10"
  },
  "orig_nbformat": 4
 },
 "nbformat": 4,
 "nbformat_minor": 2
}
