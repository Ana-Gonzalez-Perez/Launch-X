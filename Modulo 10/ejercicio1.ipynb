{
 "cells": [
  {
   "cell_type": "code",
   "execution_count": null,
   "metadata": {},
   "outputs": [],
   "source": [
    ">>> try:\n",
    "...     open(\"mars.jpg\")\n",
    "... except FileNotFoundError as err:\n",
    "...     print(\"got a problem trying to read the file:\", err)\n",
    "...\n",
    "got a problem trying to read the file: [Errno 2] No such file or directory: 'mars.jpg'"
   ]
  },
  {
   "cell_type": "code",
   "execution_count": null,
   "metadata": {},
   "outputs": [],
   "source": [
    ">>> try:\n",
    "...     open(\"config.txt\")\n",
    "... except OSError as err:\n",
    "...     if err.errno == 2:\n",
    "...         print(\"Couldn't find the config.txt file!\")\n",
    "...     elif err.errno == 13:\n",
    "...         print(\"Found config.txt but couldn't read it\")\n",
    "...\n",
    "Couldn't find the config.txt file!"
   ]
  },
  {
   "cell_type": "code",
   "execution_count": null,
   "metadata": {},
   "outputs": [],
   "source": [
    ">>> water_left(\"3\", \"200\", None)\n",
    "Traceback (most recent call last):\n",
    "  File \"<stdin>\", line 5, in water_left\n",
    "TypeError: unsupported operand type(s) for /: 'str' and 'int'\n",
    "\n",
    "During handling of the preceding exception, another exception occurred:\n",
    "\n",
    "Traceback (most recent call last):\n",
    "  File \"<stdin>\", line 1, in <module>\n",
    "  File \"<stdin>\", line 9, in water_left\n",
    "TypeError: All arguments must be of type int, but received: '3'"
   ]
  }
 ],
 "metadata": {
  "language_info": {
   "name": "python"
  },
  "orig_nbformat": 4
 },
 "nbformat": 4,
 "nbformat_minor": 2
}
