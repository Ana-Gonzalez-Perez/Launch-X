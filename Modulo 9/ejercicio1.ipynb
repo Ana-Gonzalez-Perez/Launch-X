{
 "cells": [
  {
   "cell_type": "code",
   "execution_count": 2,
   "metadata": {},
   "outputs": [],
   "source": [
    "# Función para leer 3 tanques de combustible y muestre el promedio\n",
    "def generate_report(main_tank, external_tank, hydrogen_tank):\n",
    "    total_average = (main_tank + external_tank + hydrogen_tank) / 3\n",
    "    return f"
   ]
  },
  {
   "cell_type": "code",
   "execution_count": 3,
   "metadata": {},
   "outputs": [
    {
     "ename": "NameError",
     "evalue": "name 'f' is not defined",
     "output_type": "error",
     "traceback": [
      "\u001b[1;31m---------------------------------------------------------------------------\u001b[0m",
      "\u001b[1;31mNameError\u001b[0m                                 Traceback (most recent call last)",
      "\u001b[1;32mc:\\Users\\Ana\\Desktop\\Launch X\\Modulo 9\\ejercicio1.ipynb Cell 2'\u001b[0m in \u001b[0;36m<module>\u001b[1;34m\u001b[0m\n\u001b[0;32m      <a href='vscode-notebook-cell:/c%3A/Users/Ana/Desktop/Launch%20X/Modulo%209/ejercicio1.ipynb#ch0000001?line=0'>1</a>\u001b[0m \u001b[39m# Llamamos a la función que genera el reporte print(funcion(tanque1, tanque2, tanque3))\u001b[39;00m\n\u001b[1;32m----> <a href='vscode-notebook-cell:/c%3A/Users/Ana/Desktop/Launch%20X/Modulo%209/ejercicio1.ipynb#ch0000001?line=1'>2</a>\u001b[0m \u001b[39mprint\u001b[39m(generate_report(\u001b[39m80\u001b[39;49m, \u001b[39m70\u001b[39;49m, \u001b[39m85\u001b[39;49m))\n",
      "\u001b[1;32mc:\\Users\\Ana\\Desktop\\Launch X\\Modulo 9\\ejercicio1.ipynb Cell 1'\u001b[0m in \u001b[0;36mgenerate_report\u001b[1;34m(main_tank, external_tank, hydrogen_tank)\u001b[0m\n\u001b[0;32m      <a href='vscode-notebook-cell:/c%3A/Users/Ana/Desktop/Launch%20X/Modulo%209/ejercicio1.ipynb#ch0000000?line=1'>2</a>\u001b[0m \u001b[39mdef\u001b[39;00m \u001b[39mgenerate_report\u001b[39m(main_tank, external_tank, hydrogen_tank):\n\u001b[0;32m      <a href='vscode-notebook-cell:/c%3A/Users/Ana/Desktop/Launch%20X/Modulo%209/ejercicio1.ipynb#ch0000000?line=2'>3</a>\u001b[0m     total_average \u001b[39m=\u001b[39m (main_tank \u001b[39m+\u001b[39m external_tank \u001b[39m+\u001b[39m hydrogen_tank) \u001b[39m/\u001b[39m \u001b[39m3\u001b[39m\n\u001b[1;32m----> <a href='vscode-notebook-cell:/c%3A/Users/Ana/Desktop/Launch%20X/Modulo%209/ejercicio1.ipynb#ch0000000?line=3'>4</a>\u001b[0m     \u001b[39mreturn\u001b[39;00m f\n",
      "\u001b[1;31mNameError\u001b[0m: name 'f' is not defined"
     ]
    }
   ],
   "source": [
    "# Llamamos a la función que genera el reporte print(funcion(tanque1, tanque2, tanque3))\n",
    "print(generate_report(80, 70, 85))"
   ]
  },
  {
   "cell_type": "code",
   "execution_count": null,
   "metadata": {},
   "outputs": [],
   "source": [
    "# Función promedio \n",
    "def average(values):\n",
    "    total = sum(values)\n",
    "    number_of_items = len(values)\n",
    "    return total / number_of_items\n",
    "\n",
    "# Test the averaging function with a list of integers:\n",
    "average([80, 85, 81]) "
   ]
  },
  {
   "cell_type": "code",
   "execution_count": null,
   "metadata": {},
   "outputs": [],
   "source": [
    "# Actualiza la función\n",
    "def generate_report(main_tank, external_tank, hydrogen_tank):\n",
    "    return f\n",
    "print(generate_report(88, 76, 70))"
   ]
  }
 ],
 "metadata": {
  "interpreter": {
   "hash": "04455c6a060d413cb7eeff7d14ff26a05fdbc33cf1c7037eb76707365020ba31"
  },
  "kernelspec": {
   "display_name": "Python 3.9.10 32-bit",
   "language": "python",
   "name": "python3"
  },
  "language_info": {
   "codemirror_mode": {
    "name": "ipython",
    "version": 3
   },
   "file_extension": ".py",
   "mimetype": "text/x-python",
   "name": "python",
   "nbconvert_exporter": "python",
   "pygments_lexer": "ipython3",
   "version": "3.9.10"
  },
  "orig_nbformat": 4
 },
 "nbformat": 4,
 "nbformat_minor": 2
}
