{
 "cells": [
  {
   "cell_type": "code",
   "execution_count": 6,
   "metadata": {},
   "outputs": [
    {
     "ename": "NameError",
     "evalue": "name 'text' is not defined",
     "output_type": "error",
     "traceback": [
      "\u001b[1;31m---------------------------------------------------------------------------\u001b[0m",
      "\u001b[1;31mNameError\u001b[0m                                 Traceback (most recent call last)",
      "\u001b[1;32mc:\\Users\\Ana\\Desktop\\Launch X\\Modulo 4\\ejercicio1.ipynb Cell 1'\u001b[0m in \u001b[0;36m<module>\u001b[1;34m\u001b[0m\n\u001b[0;32m      <a href='vscode-notebook-cell:/c%3A/Users/Ana/Desktop/Launch%20X/Modulo%204/ejercicio1.ipynb#ch0000004?line=0'>1</a>\u001b[0m \u001b[39mTypeError\u001b[39;00m: \u001b[39mstr\u001b[39m \u001b[39mis\u001b[39;00m \u001b[39mnot\u001b[39;00m callable\n\u001b[1;32m----> <a href='vscode-notebook-cell:/c%3A/Users/Ana/Desktop/Launch%20X/Modulo%204/ejercicio1.ipynb#ch0000004?line=1'>2</a>\u001b[0m text_parts \u001b[39m=\u001b[39m text\u001b[39m.\u001b[39msplit(\u001b[39m'\u001b[39m\u001b[39m. \u001b[39m\u001b[39m'\u001b[39m)\n\u001b[0;32m      <a href='vscode-notebook-cell:/c%3A/Users/Ana/Desktop/Launch%20X/Modulo%204/ejercicio1.ipynb#ch0000004?line=2'>3</a>\u001b[0m text_parts\n\u001b[0;32m      <a href='vscode-notebook-cell:/c%3A/Users/Ana/Desktop/Launch%20X/Modulo%204/ejercicio1.ipynb#ch0000004?line=3'>4</a>\u001b[0m \u001b[39m# Palabras clave\u001b[39;00m\n",
      "\u001b[1;31mNameError\u001b[0m: name 'text' is not defined"
     ]
    }
   ],
   "source": [
    "TypeError: str is not callable\n",
    "text_parts = text.split('. ')\n",
    "text_parts\n",
    "# Palabras clave\n",
    "key_words = [\"average\", \"temperature\", \"distance\"]\n",
    "# Ciclo for para recorrer la cadena\n",
    "for sentence in text_parts:\n",
    "    for key_word in key_words:\n",
    "        if key_word in sentence:\n",
    "            print(sentence)\n",
    "            break\n",
    "        # Ciclo para cambiar C a Celsius\n",
    "for sentence in text_parts:\n",
    "    for key_word in key_words:\n",
    "        if key_word in sentence:\n",
    "            print(sentence.replace(' C', ' Celsius'))\n",
    "            break"
   ]
  }
 ],
 "metadata": {
  "interpreter": {
   "hash": "04455c6a060d413cb7eeff7d14ff26a05fdbc33cf1c7037eb76707365020ba31"
  },
  "kernelspec": {
   "display_name": "Python 3.9.10 32-bit",
   "language": "python",
   "name": "python3"
  },
  "language_info": {
   "name": "python",
   "version": "3.9.10"
  },
  "orig_nbformat": 4
 },
 "nbformat": 4,
 "nbformat_minor": 2
}
